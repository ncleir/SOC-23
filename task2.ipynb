{
 "cells": [
  {
   "cell_type": "code",
   "execution_count": 1,
   "metadata": {},
   "outputs": [],
   "source": [
    "import pandas as pd\n",
    "import matplotlib.pyplot as plt"
   ]
  },
  {
   "attachments": {},
   "cell_type": "markdown",
   "metadata": {},
   "source": [
    "# Task"
   ]
  },
  {
   "attachments": {},
   "cell_type": "markdown",
   "metadata": {},
   "source": [
    "As you have now already created a machine learning algorithm to predict whether a given passenger aboard the Titanic survived. As an initial step, you a thought might have entered your mind to run a logistic regression(logsitic regression is basically when you fit your data to the sigmoid of a linear function) to determine if any of the decision variables that you were given are not significant"
   ]
  },
  {
   "cell_type": "code",
   "execution_count": 16,
   "metadata": {},
   "outputs": [
    {
     "data": {
      "image/png": "[encoded data removed]",
      "text/plain": [
       "<Figure size 640x480 with 1 Axes>"
      ]
     },
     "metadata": {},
     "output_type": "display_data"
    }
   ],
   "source": [
    "data = pd.read_csv(\"./train.csv\").dropna()\n",
    "survived = data[data[\"Survived\"]==1]\n",
    "dead = data[data[\"Survived\"]==0]\n",
    "plt.hist(survived[\"Age\"])\n",
    "plt.hist(dead[\"Age\"])\n",
    "plt.show()"
   ]
  },
  {
   "attachments": {},
   "cell_type": "markdown",
   "metadata": {},
   "source": [
    "To your surprise, the decision variable passenger_age exhibits an extraordinary high p-value(which in simple terms translates to saying that survival has no interdependence on passenger_age). You can use the above figure for more clarity. This directly contradicts your previous knowledge, as you remember seeing in the classic movie that children and the elderly were often spared first"
   ]
  },
  {
   "attachments": {},
   "cell_type": "markdown",
   "metadata": {},
   "source": [
    "ref of p value: https://en.wikipedia.org/wiki/P-value\n",
    "\n",
    "ref on statistical significance: https://en.wikipedia.org/wiki/Statistical_significance"
   ]
  },
  {
   "attachments": {},
   "cell_type": "markdown",
   "metadata": {},
   "source": [
    "Other significant variables (in order of significance) include: gender, number_siblings_abroas, ticket_class, and number_parents_abroad. Given this information, what is the **BEST NEXT** step for you to take in your modelling process?"
   ]
  },
  {
   "attachments": {},
   "cell_type": "markdown",
   "metadata": {},
   "source": [
    "(Assume that, prior to conducting your analysism the only data cleaning you performed was removing an insignificant number of data points with NaNs from the data)."
   ]
  },
  {
   "attachments": {},
   "cell_type": "markdown",
   "metadata": {},
   "source": [
    "You cant just select the most appropriate reasons that I could think of from the following and justify them\n",
    "\n",
    "* There is noting to do - at this point, you already have enough information to say with statistical significance that there do not exist any significant predictors for determining whether or not someone survived on the titanic\n",
    "* Passenger_age played a minor factor, but it's significance was dwarfted by the gender variable - so you should rerun your regression of survival outcomes against gender only, then take the residuals from that and regress those residuals against passenger_age\n",
    "* Passenger_age played a minor factor, but it's significance was dwarfted by the other four significant variables - so you should rerun your regression of survival outcomes against those four only, then take the residuals from that and regress those residuals against passenger_age\n",
    "* There are not enough explanatory variables in the model -  so you should add the variable $passenger-age^{2}$ as well and re-run the regression\n",
    "* Since very few people survived, the data was skewed - so you should use a smaller sample size of the deceased to create roughly balanced classed and re-run the regression"
   ]
  }
 ],
 "metadata": {
  "kernelspec": {
   "display_name": "Python 3",
   "language": "python",
   "name": "python3"
  },
  "language_info": {
   "codemirror_mode": {
    "name": "ipython",
    "version": 3
   },
   "file_extension": ".py",
   "mimetype": "text/x-python",
   "name": "python",
   "nbconvert_exporter": "python",
   "pygments_lexer": "ipython3",
   "version": "3.8.0"
  },
  "orig_nbformat": 4
 },
 "nbformat": 4,
 "nbformat_minor": 2
}
